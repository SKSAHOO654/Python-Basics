{
  "nbformat": 4,
  "nbformat_minor": 0,
  "metadata": {
    "colab": {
      "provenance": []
    },
    "kernelspec": {
      "name": "python3",
      "display_name": "Python 3"
    },
    "language_info": {
      "name": "python"
    }
  },
  "cells": [
    {
      "cell_type": "code",
      "execution_count": null,
      "metadata": {
        "id": "aPhzlu7KGGXa",
        "colab": {
          "base_uri": "https://localhost:8080/"
        },
        "outputId": "323c52d5-280a-41ba-f8ec-7c9b0ebe31b0"
      },
      "outputs": [
        {
          "output_type": "stream",
          "name": "stdout",
          "text": [
            "Hello, World!\n"
          ]
        }
      ],
      "source": [
        "# 1 . Write a Python program to print \"Hello, World! ?\n",
        "\n",
        "print(\"Hello, World!\")"
      ]
    },
    {
      "cell_type": "code",
      "source": [
        "# 2 . Write a Python program that displays your name and age ?\n",
        "\n",
        "name = \"sanjeev kumar sahu\"\n",
        "age = 25\n",
        "\n",
        "print(f\"My name is {name}\")\n",
        "print(f\"I am {age} years old.\")"
      ],
      "metadata": {
        "colab": {
          "base_uri": "https://localhost:8080/"
        },
        "id": "Nz_tjuhlMOno",
        "outputId": "151072b3-c732-4a30-9fc9-8c7bd1894b85"
      },
      "execution_count": null,
      "outputs": [
        {
          "output_type": "stream",
          "name": "stdout",
          "text": [
            "My name is sanjeev kumar sahu\n",
            "I am 25 years old.\n"
          ]
        }
      ]
    },
    {
      "cell_type": "code",
      "source": [
        "# 3 . Write code to print all the pre-defined keywords in Python using the keyword library ?\n",
        "\n",
        "import keyword\n",
        "keywords_list = keyword.kwlist\n",
        "\n",
        "print(\"Python Keywords:\")\n",
        "for kw in keywords_list:\n",
        "    print(kw)\n"
      ],
      "metadata": {
        "colab": {
          "base_uri": "https://localhost:8080/"
        },
        "id": "x8tovZ_eOAwU",
        "outputId": "344cb3e8-4e49-471c-8287-026df9f85a10"
      },
      "execution_count": null,
      "outputs": [
        {
          "output_type": "stream",
          "name": "stdout",
          "text": [
            "Python Keywords:\n",
            "False\n",
            "None\n",
            "True\n",
            "and\n",
            "as\n",
            "assert\n",
            "async\n",
            "await\n",
            "break\n",
            "class\n",
            "continue\n",
            "def\n",
            "del\n",
            "elif\n",
            "else\n",
            "except\n",
            "finally\n",
            "for\n",
            "from\n",
            "global\n",
            "if\n",
            "import\n",
            "in\n",
            "is\n",
            "lambda\n",
            "nonlocal\n",
            "not\n",
            "or\n",
            "pass\n",
            "raise\n",
            "return\n",
            "try\n",
            "while\n",
            "with\n",
            "yield\n"
          ]
        }
      ]
    },
    {
      "cell_type": "code",
      "source": [
        "# 4 . Write a program that checks if a given word is a Python keyword ?\n",
        "\n",
        "import keyword\n",
        "\n",
        "def is_python_keyword(word):\n",
        "    return word in keyword.kwlist\n",
        "\n",
        "word = input(\"Enter a word: \")\n",
        "\n",
        "if is_python_keyword(word):\n",
        "    print(f\"'{word}' is a Python keyword.\")\n",
        "else:\n",
        "    print(f\"'{word}' is not a Python keyword.\")"
      ],
      "metadata": {
        "colab": {
          "base_uri": "https://localhost:8080/"
        },
        "id": "7aV_r1Q1OAkO",
        "outputId": "ccaec632-d775-44cc-ba03-fd3b7923eeef"
      },
      "execution_count": null,
      "outputs": [
        {
          "output_type": "stream",
          "name": "stdout",
          "text": [
            "Enter a word: is\n",
            "'is' is a Python keyword.\n"
          ]
        }
      ]
    },
    {
      "cell_type": "code",
      "source": [
        "# 5 . Create a list and tuple in Python, and demonstrate how attempting to change an element works differently for each ?\n",
        "\n",
        "my_list = [10, 20, 30, 40, 50]\n",
        "my_tuple = (10, 20, 30, 40, 50)\n",
        "\n",
        "print(\"Original list:\", my_list)\n",
        "print(\"Original tuple:\", my_tuple)\n",
        "\n",
        "my_list[2] = 99\n",
        "print(\"List after change:\", my_list)\n",
        "\n",
        "try:\n",
        "    my_tuple[2] = 999\n",
        "except TypeError as e:\n",
        "    print(\"Error attempting to change tuple:\", e)\n",
        "\n",
        "print(\"Tuple remains unchanged:\", my_tuple)"
      ],
      "metadata": {
        "colab": {
          "base_uri": "https://localhost:8080/"
        },
        "id": "fhuka_HQOAaX",
        "outputId": "35f44c2f-84ca-47b1-b8ea-2b5b36639f38"
      },
      "execution_count": null,
      "outputs": [
        {
          "output_type": "stream",
          "name": "stdout",
          "text": [
            "Original list: [10, 20, 30, 40, 50]\n",
            "Original tuple: (10, 20, 30, 40, 50)\n",
            "List after change: [10, 20, 99, 40, 50]\n",
            "Error attempting to change tuple: 'tuple' object does not support item assignment\n",
            "Tuple remains unchanged: (10, 20, 30, 40, 50)\n"
          ]
        }
      ]
    },
    {
      "cell_type": "code",
      "source": [
        "# 6 . Write a function to demonstrate the behavior of mutable and immutable arguments ?\n",
        "\n",
        "def demonstrate_mutability(immutable_arg, mutable_arg):\n",
        "    immutable_arg += 10\n",
        "    mutable_arg.append(4)\n",
        "\n",
        "    print(f\"Inside function - Immutable: {immutable_arg}, Mutable: {mutable_arg}\")\n",
        "\n",
        "\n",
        "num = 5\n",
        "lst = [1, 2, 3]\n",
        "demonstrate_mutability(num, lst)\n",
        "\n",
        "print(f\"Outside function - Immutable: {num}, Mutable: {lst}\")"
      ],
      "metadata": {
        "colab": {
          "base_uri": "https://localhost:8080/"
        },
        "id": "NfwnVv6uOAQj",
        "outputId": "50a2d128-7d9e-4c08-bc2a-f3b9c6521781"
      },
      "execution_count": null,
      "outputs": [
        {
          "output_type": "stream",
          "name": "stdout",
          "text": [
            "Inside function - Immutable: 15, Mutable: [1, 2, 3, 4]\n",
            "Outside function - Immutable: 5, Mutable: [1, 2, 3, 4]\n"
          ]
        }
      ]
    },
    {
      "cell_type": "code",
      "source": [
        "# 7 . Write a function to demonstrate the behavior of mutable and immutable arguments ? (# same as 6th question .)\n",
        "\n",
        "def demonstrate_mutability(immutable_arg, mutable_arg):\n",
        "    immutable_arg += 10\n",
        "    mutable_arg.append(4)\n",
        "\n",
        "    print(f\"Inside function - Immutable: {immutable_arg}, Mutable: {mutable_arg}\")\n",
        "\n",
        "\n",
        "num = 5\n",
        "lst = [1, 2, 3]\n",
        "demonstrate_mutability(num, lst)\n",
        "\n",
        "print(f\"Outside function - Immutable: {num}, Mutable: {lst}\")"
      ],
      "metadata": {
        "colab": {
          "base_uri": "https://localhost:8080/"
        },
        "id": "9BnNlCWrOADM",
        "outputId": "da36fe05-06b5-44f1-c55e-1220a023a9e9"
      },
      "execution_count": null,
      "outputs": [
        {
          "output_type": "stream",
          "name": "stdout",
          "text": [
            "Inside function - Immutable: 15, Mutable: [1, 2, 3, 4]\n",
            "Outside function - Immutable: 5, Mutable: [1, 2, 3, 4]\n"
          ]
        }
      ]
    },
    {
      "cell_type": "code",
      "source": [
        "# 8 . Write a program to demonstrate the use of logical operators ?\n",
        "\n",
        "# Demonstrate logical operators: and, or, not\n",
        "\n",
        "x = 5\n",
        "y = 10\n",
        "z = 0\n",
        "\n",
        "print(\"x =\", x)\n",
        "print(\"y =\", y)\n",
        "print(\"z =\", z)\n",
        "\n",
        "print(\"\\n--- AND Operator ---\")\n",
        "print(\"x > 0 and y > 0:\", x > 0 and y > 0)  # True (both conditions are true)\n",
        "print(\"x > 0 and z > 0:\", x > 0 and z > 0)  # False (one condition is false)\n",
        "print(\"z > 0 and y > 0:\", z > 0 and y > 0)  # False (one condition is false)\n",
        "\n",
        "print(\"\\n--- OR Operator ---\")\n",
        "print(\"x > 0 or y > 0:\", x > 0 or y > 0)  # True (at least one condition is true)\n",
        "print(\"x > 0 or z > 0:\", x > 0 or z > 0)  # True (at least one condition is true)\n",
        "print(\"z > 0 or y > 0:\", z > 0 or y > 0)  # True (at least one condition is true)\n",
        "print(\"z < 0 or z > 0:\", z < 0 or z > 0)  # False (both conditions are false)\n",
        "\n",
        "\n",
        "print(\"\\n--- NOT Operator ---\")\n",
        "print(\"not x > 0:\", not x > 0)                             # False (x > 0 is true, so not x > 0 is false)\n",
        "print(\"not z > 0:\", not z > 0)                             # True (z > 0 is false, so not z > 0 is true)\n",
        "print(\"not (x > 0 and y < 0):\", not (x > 0 and y < 0))     # True. (x > 0 and y < 0) is false, so not(...) is true.\n",
        "print(\"not (x < 0 or y > 0):\", not (x < 0 or y > 0))       # False. (x < 0 or y > 0) is true, so not(...) is false."
      ],
      "metadata": {
        "colab": {
          "base_uri": "https://localhost:8080/"
        },
        "id": "m0TkDay9N_gG",
        "outputId": "cd5cbfdd-abc0-42fd-bfa3-55f7acacaa5a"
      },
      "execution_count": null,
      "outputs": [
        {
          "output_type": "stream",
          "name": "stdout",
          "text": [
            "x = 5\n",
            "y = 10\n",
            "z = 0\n",
            "\n",
            "--- AND Operator ---\n",
            "x > 0 and y > 0: True\n",
            "x > 0 and z > 0: False\n",
            "z > 0 and y > 0: False\n",
            "\n",
            "--- OR Operator ---\n",
            "x > 0 or y > 0: True\n",
            "x > 0 or z > 0: True\n",
            "z > 0 or y > 0: True\n",
            "z < 0 or z > 0: False\n",
            "\n",
            "--- NOT Operator ---\n",
            "not x > 0: False\n",
            "not z > 0: True\n",
            "not (x > 0 and y < 0): True\n",
            "not (x < 0 or y > 0): False\n"
          ]
        }
      ]
    },
    {
      "cell_type": "code",
      "source": [
        "# 9 . Write a Python program to convert user input from string to integer, float, and boolean types ?\n",
        "def convert_input():\n",
        "\n",
        "    while True:\n",
        "        try:\n",
        "            int_input = int(input(\"Enter an integer: \"))\n",
        "            break\n",
        "        except ValueError:\n",
        "            print(\"Invalid input. Please enter an integer.\")\n",
        "\n",
        "    while True:\n",
        "        try:\n",
        "            float_input = float(input(\"Enter a float: \"))\n",
        "            break\n",
        "        except ValueError:\n",
        "            print(\"Invalid input. Please enter a float.\")\n",
        "\n",
        "    while True:\n",
        "        bool_input_str = input(\"Enter a boolean value (True/False): \").lower()\n",
        "        if bool_input_str in [\"true\", \"false\"]:\n",
        "            bool_input = bool(bool_input_str == \"true\")\n",
        "            break\n",
        "        else:\n",
        "            print(\"Invalid input. Please enter 'True' or 'False'.\")\n",
        "\n",
        "\n",
        "    print(\"\\n--- Converted Values ---\")\n",
        "    print(\"Integer:\", int_input)\n",
        "    print(\"Float:\", float_input)\n",
        "    print(\"Boolean:\", bool_input)\n",
        "\n",
        "convert_input()"
      ],
      "metadata": {
        "colab": {
          "base_uri": "https://localhost:8080/"
        },
        "id": "bLkgq0VSVY5l",
        "outputId": "905b17d5-30c9-45ad-8062-e63810b274b6"
      },
      "execution_count": null,
      "outputs": [
        {
          "output_type": "stream",
          "name": "stdout",
          "text": [
            "Enter an integer: 5.2\n",
            "Invalid input. Please enter an integer.\n",
            "Enter an integer: 200\n",
            "Enter a float: 52\n",
            "Enter a boolean value (True/False): False\n",
            "\n",
            "--- Converted Values ---\n",
            "Integer: 200\n",
            "Float: 52.0\n",
            "Boolean: False\n"
          ]
        }
      ]
    },
    {
      "cell_type": "code",
      "source": [
        "# 10 .  Write code to demonstrate type casting with list elements ?\n",
        "\n",
        "def type_casting_list_elements():\n",
        "\n",
        "    mixed_list = [\"10\", 3.14, \"True\", 5, False, \"hello\"]\n",
        "\n",
        "    print(\"Original mixed list:\", mixed_list)\n",
        "\n",
        "    int_list = []\n",
        "    for element in mixed_list:\n",
        "        try:\n",
        "            int_list.append(int(element))\n",
        "        except ValueError:\n",
        "            print(f\"Cannot convert '{element}' to integer.\")\n",
        "    print(\"List after casting to integers:\", int_list)\n",
        "\n",
        "    float_list = []\n",
        "    for element in mixed_list:\n",
        "        try:\n",
        "            float_list.append(float(element))\n",
        "        except ValueError:\n",
        "            print(f\"Cannot convert '{element}' to float.\")\n",
        "    print(\"List after casting to floats:\", float_list)\n",
        "\n",
        "    bool_list = []\n",
        "    for element in mixed_list:\n",
        "        bool_list.append(bool(element))\n",
        "    print(\"List after casting to booleans:\", bool_list)\n",
        "\n",
        "type_casting_list_elements()"
      ],
      "metadata": {
        "colab": {
          "base_uri": "https://localhost:8080/"
        },
        "id": "NSKbsuJHVYuW",
        "outputId": "de79cbbd-d969-41dd-d791-2bb11b33ec90"
      },
      "execution_count": null,
      "outputs": [
        {
          "output_type": "stream",
          "name": "stdout",
          "text": [
            "Original mixed list: ['10', 3.14, 'True', 5, False, 'hello']\n",
            "Cannot convert 'True' to integer.\n",
            "Cannot convert 'hello' to integer.\n",
            "List after casting to integers: [10, 3, 5, 0]\n",
            "Cannot convert 'True' to float.\n",
            "Cannot convert 'hello' to float.\n",
            "List after casting to floats: [10.0, 3.14, 5.0, 0.0]\n",
            "List after casting to booleans: [True, True, True, True, False, True]\n"
          ]
        }
      ]
    },
    {
      "cell_type": "code",
      "source": [
        "# 11 .  Write a program that checks if a number is positive, negative, or zero ?\n",
        "\n",
        "def check_number(number):\n",
        "\n",
        "\n",
        "    if number > 0:\n",
        "        print(f\"{number} is positive.\")\n",
        "    elif number < 0:\n",
        "        print(f\"{number} is negative.\")\n",
        "    else:\n",
        "        print(f\"{number} is zero.\")\n",
        "\n",
        "while True:\n",
        "    try:\n",
        "        user_input = float(input(\"Enter a number: \"))\n",
        "        break\n",
        "    except ValueError:\n",
        "        print(\"Invalid input. Please enter a number (integer or float).\")\n",
        "\n",
        "check_number(user_input)\n"
      ],
      "metadata": {
        "colab": {
          "base_uri": "https://localhost:8080/"
        },
        "id": "YqvlyoHGVYin",
        "outputId": "0288e307-4ae0-4243-e371-23cacfb5c149"
      },
      "execution_count": null,
      "outputs": [
        {
          "output_type": "stream",
          "name": "stdout",
          "text": [
            "Enter a number: -2.1\n",
            "-2.1 is negative.\n"
          ]
        }
      ]
    },
    {
      "cell_type": "code",
      "source": [
        "# 12 . Write a for loop to print numbers from 1 to 10 ?\n",
        "\n",
        "numbers = [1, 2, 3, 4, 5, 6, 7, 8, 9, 10]\n",
        "for number in numbers:\n",
        "    print(number)"
      ],
      "metadata": {
        "colab": {
          "base_uri": "https://localhost:8080/"
        },
        "id": "XxTz0fHfVYWs",
        "outputId": "59aab532-de1b-456c-e0bc-4c262403400f"
      },
      "execution_count": null,
      "outputs": [
        {
          "output_type": "stream",
          "name": "stdout",
          "text": [
            "1\n",
            "2\n",
            "3\n",
            "4\n",
            "5\n",
            "6\n",
            "7\n",
            "8\n",
            "9\n",
            "10\n"
          ]
        }
      ]
    },
    {
      "cell_type": "code",
      "source": [
        "# 13 . Write a Python program to find the sum of all even numbers between 1 and 500 ?\n",
        "\n",
        "sum_of_evens = 0\n",
        "for number in range(1, 501):\n",
        "    if number % 2 == 0:\n",
        "        sum_of_evens += number\n",
        "\n",
        "print(\"Sum of even numbers:\", sum_of_evens)"
      ],
      "metadata": {
        "colab": {
          "base_uri": "https://localhost:8080/"
        },
        "id": "CC9B6LkTVYJb",
        "outputId": "a8b368d1-225d-4a04-a1d9-16672f444296"
      },
      "execution_count": null,
      "outputs": [
        {
          "output_type": "stream",
          "name": "stdout",
          "text": [
            "Sum of even numbers: 62750\n"
          ]
        }
      ]
    },
    {
      "cell_type": "code",
      "source": [
        "# 14 . Write a program to reverse a string using a while loop ?\n",
        "\n",
        "def reverse_string(s):\n",
        "    reversed_string = \"\"\n",
        "    index = len(s) - 1\n",
        "    while index >= 0:\n",
        "        reversed_string += s[index]\n",
        "        index -= 1\n",
        "    return reversed_string\n",
        "\n",
        "input_string = input(\"Enter a string: \")\n",
        "\n",
        "reversed_string = reverse_string(input_string)\n",
        "\n",
        "print(\"Reversed string:\", reversed_string)"
      ],
      "metadata": {
        "colab": {
          "base_uri": "https://localhost:8080/"
        },
        "id": "1MgQXl_xVX8-",
        "outputId": "83291653-be2f-4dc8-8ea7-170f9e79952e"
      },
      "execution_count": null,
      "outputs": [
        {
          "output_type": "stream",
          "name": "stdout",
          "text": [
            "Enter a string: ODISHA CUTTACK\n",
            "Reversed string: KCATTUC AHSIDO\n"
          ]
        }
      ]
    },
    {
      "cell_type": "code",
      "source": [
        "# 15 .  Write a Python program to calculate the factorial of a number provided by the user using a while loop ?\n",
        "\n",
        "def factorial(n):\n",
        "    if n < 0:\n",
        "        return\n",
        "    elif n == 0:\n",
        "        return 1\n",
        "    else:\n",
        "        result = 1\n",
        "        while n > 0:\n",
        "            result *= n\n",
        "            n -= 1\n",
        "        return result\n",
        "\n",
        "while True:\n",
        "    try:\n",
        "        num = int(input(\"Enter a non-negative integer: \"))\n",
        "        if num >= 0:\n",
        "            break\n",
        "        else:\n",
        "            print(\"Please enter a non-negative integer.\")\n",
        "    except ValueError:\n",
        "        print(\"Invalid input. Please enter an integer.\")\n",
        "\n",
        "fact = factorial(num)\n",
        "print(f\"The factorial of {num} is {fact}\")"
      ],
      "metadata": {
        "colab": {
          "base_uri": "https://localhost:8080/"
        },
        "id": "cqJnqRVGVXvU",
        "outputId": "fc1d0e98-e9c0-4ec6-9180-22cb8a2b4d31"
      },
      "execution_count": null,
      "outputs": [
        {
          "output_type": "stream",
          "name": "stdout",
          "text": [
            "Enter a non-negative integer: 5\n",
            "The factorial of 5 is 120\n"
          ]
        }
      ]
    }
  ]
}