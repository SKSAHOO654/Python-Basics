{
  "nbformat": 4,
  "nbformat_minor": 0,
  "metadata": {
    "colab": {
      "provenance": []
    },
    "kernelspec": {
      "name": "python3",
      "display_name": "Python 3"
    },
    "language_info": {
      "name": "python"
    }
  },
  "cells": [
    {
      "cell_type": "markdown",
      "source": [
        "Python Basics (THEORY)\n"
      ],
      "metadata": {
        "id": "2CLScWrSZNLl"
      }
    },
    {
      "cell_type": "markdown",
      "source": [
        "1 .  What is Python, and why is it popular ?"
      ],
      "metadata": {
        "id": "XcP3nnt0ZejJ"
      }
    },
    {
      "cell_type": "markdown",
      "source": [
        "- Python is a programming language that is easy to understand and write, making it a popular choice among developers and programmers.\n",
        "- It is compatible with various programming paradigms, such as procedural, object-oriented, and functional programming.\n",
        "- Python has a large and active community of developers, an extensive standard library, and third-party packages for various domains.\n",
        "\n",
        "  - Here's why Python is so popular:\n",
        "    - Beginner-Friendly: Python's simple syntax and English-like commands make it easier to learn, even for those new to programming.\n",
        "    - Versatile: Python can be used for various tasks, including web development, data science, machine learning, automation, and more.\n",
        "    - Extensive Libraries and Frameworks: Python has a vast collection of libraries and frameworks that provide pre-written code for common tasks, speeding up development.\n",
        "    - Large and Active Community: Python boasts a large and supportive community and developers.\n",
        "    - Open Source: Python is free to use .\n",
        "    - High Demand: Python skills are in high demand across various industries, making it a valuable asset for developers."
      ],
      "metadata": {
        "id": "yRRkM-kvZrNi"
      }
    },
    {
      "cell_type": "markdown",
      "source": [
        "\n",
        "2. What is an interpreter in Python?"
      ],
      "metadata": {
        "id": "Xe4OZ9t4aF2C"
      }
    },
    {
      "cell_type": "markdown",
      "source": [
        "- In Python, an interpreter is a program that executes Python code line by line. It reads your code, interprets each instruction, and then carries it out. - This is different from compiled languages like C++\n",
        "\n",
        "  - Key features of the Python interpreter:\n",
        "     - Interactive mode: Python has an interactive mode where you can type code\n",
        "       directly into the interpreter and see the results immediately.\n",
        "     - Line-by-line execution: The interpreter executes code line by line,  \n",
        "       which makes it easier to debug and understand how your program works.\n",
        "     - Dynamic typing: Python is a dynamically typed language, interpreter handles this dynamically, making Python more flexible"
      ],
      "metadata": {
        "id": "fYoOPvjfaK79"
      }
    },
    {
      "cell_type": "markdown",
      "source": [
        "3. What are pre-defined keywords in Python ?"
      ],
      "metadata": {
        "id": "t_qxQaG8atrv"
      }
    },
    {
      "cell_type": "markdown",
      "source": [
        "- Keywords are reserved words in Python that have special meanings and cannot  \n",
        "  be used as identifiers (variable names, function names, etc.).\n",
        "   - Examples of keywords include if, else, while, for, def, class, import, try, except, return, True, False, None, etc.\n",
        "- Keywords are case-sensitive and cannot be redefined or overridden within a Python program.\n",
        "\n",
        "  - Here are some examples of pre-defined keywords in Python:\n",
        "     - True and False: These represent boolean values, which are used in  \n",
        "       logical operations and conditional statements.\n",
        "     - None: This represents a null value or the absence of a value.\n",
        "     - and, or, not: These are logical operators used to combine or manipulate\n",
        "       boolean values.\n",
        "     - if, elif, else: These keywords are used for conditional statements,\n",
        "       allowing you to execute different blocks of code based on certain conditions.\n",
        "     - for, while: These keywords are used for creating loops, which allow you\n",
        "       to repeat a block of code multiple times."
      ],
      "metadata": {
        "id": "vLWBn8xxa67A"
      }
    },
    {
      "cell_type": "markdown",
      "source": [
        "4.  Can keywords be used as variable names ?"
      ],
      "metadata": {
        "id": "7pkIm198a6xu"
      }
    },
    {
      "cell_type": "markdown",
      "source": [
        "- No, keywords cannot be used as variable names in Python.\n",
        "   - Reserved Meaning: Keywords have specific, pre-defined roles within the Python language. They are used to structure code, define operations, and represent fundamental concepts.\n",
        "   - Syntax Errors: If you try to use a keyword as a variable name, Python's interpreter will raise a syntax error.\n",
        "\n",
        "\n",
        "     This will cause a syntax error\n",
        "    - for = 100\n",
        "\n",
        "     This will also cause a syntax error\n",
        "    - if = \"LOVE\""
      ],
      "metadata": {
        "id": "-aTnubZya6kb"
      }
    },
    {
      "cell_type": "markdown",
      "source": [
        "\n",
        "5.  What is mutability in Python ?"
      ],
      "metadata": {
        "id": "QgHfjFBpa6Wl"
      }
    },
    {
      "cell_type": "markdown",
      "source": [
        "- Mutable objects are those whose value can be changed after they are created.\n",
        "- This means that you can modify the contents of the object directly without\n",
        "    creating a new object.\n",
        "\n",
        "    - Examples of mutable objects in Python include:\n",
        "      - Lists\n",
        "      - Dictionaries\n",
        "      - Sets\n"
      ],
      "metadata": {
        "id": "0iE48a3oa6Ge"
      }
    },
    {
      "cell_type": "markdown",
      "source": [
        "\n",
        "6.  Why are lists mutable, but tuples are immutable ?"
      ],
      "metadata": {
        "id": "4nYZuKhXW_Z9"
      }
    },
    {
      "cell_type": "markdown",
      "source": [
        "- The main difference between tuples and lists is that tuples are immutable,\n",
        "  meaning their contents cannot be changed after creation.\n",
        "- while lists are mutable and can be modified. Additionally, tuples are more\n",
        "  memory-efficient compared to lists.\n",
        "- Tuples can't be changed after they're created, but lists can be modified.\n",
        "\n",
        "  - Lists (Mutable):\n",
        "    - Designed for Flexibility: Lists are designed to be dynamic and flexible.\n",
        "    - Efficiency for Modifications: When you modify a list, you're changing the\n",
        "      existing object in memory.\n",
        "\n",
        "  - Tuples (Immutable):\n",
        "   - Designed for Data Integrity: Tuples are designed to represent fixed collections of items that should not be changed.\n",
        "   - Performance Benefits: Tuples are fixed in size and cannot be modified,\n",
        "     Python can allocate memory for them more efficiently. This can lead to faster access and processing of tuple elements.\n",
        "   - Common Use Cases: Tuples are well-suited for tasks like:\n",
        "   Representing fixed records of data (e.g., a person's name, age, and address)\n",
        "\n",
        "- Key Differences :\n",
        "  - Memory Efficiency: Tuples are generally more memory-efficient than lists,\n",
        "    especially for large collections of data, due to their immutability.\n",
        "  - Performance: Tuples can be faster to process than lists.\n",
        "  - Flexibility: Lists offer more flexibility for modifying data, while tuples provide data integrity and prevent accidental changes\n"
      ],
      "metadata": {
        "id": "D6x7zlVcXL29"
      }
    },
    {
      "cell_type": "markdown",
      "source": [
        "7.  What is the difference between “==” and “is” operators in Python ?\n"
      ],
      "metadata": {
        "id": "HRBqTqKfXLv7"
      }
    },
    {
      "cell_type": "markdown",
      "source": [
        "- In Python, both == and is are comparison operators, but they check for\n",
        "  different things.\n",
        "\n",
        "    -> == (Equality Operator):\n",
        "      - Compares the values of two objects.\n",
        "      - Returns True if the values are equal, and False otherwise.\n",
        "      - Focuses on the content of the objects.\n",
        "\n",
        "    -> is (Identity Operator):\n",
        "      - Compares the memory addresses (or identities) of two objects.\n",
        "      - Returns True if both variables point to the same object in memory, and False otherwise.\n",
        "      - Checks if the objects are literally the same, not just having the same content.\n",
        "\n",
        "  - Analogy:\n",
        "   - Think of it like comparing people:\n",
        "   - == is like asking \"Do these two people have the same height?\" (comparing a\n",
        "     characteristic).\n",
        "   - is is like asking \"Are these two people the exact same person?\" (comparing their identity)."
      ],
      "metadata": {
        "id": "nojw67-nXLrS"
      }
    },
    {
      "cell_type": "markdown",
      "source": [
        "8 .  What are logical operators in Python ?\n"
      ],
      "metadata": {
        "id": "WGFzOSH0XLm5"
      }
    },
    {
      "cell_type": "markdown",
      "source": [
        "- Logical operators in Python are used to combine or modify conditions in a\n",
        "  program, determining whether a statement is true or false.\n",
        "     \n",
        "  - Types of Logical Operators\n",
        "\n",
        "   - Python has three main logical operators:\n",
        "\n",
        "     - and: Returns True if both operands are true. Otherwise, it returns False.\n",
        "     - or: Returns True if at least one of the operands is true. It returns\n",
        "       False only if both operands are false.\n",
        "     - not: Returns the opposite boolean value of the operand. If the operand  \n",
        "       is true, it returns False, and if it's false, it returns True."
      ],
      "metadata": {
        "id": "b_JK_v2WXLiH"
      }
    },
    {
      "cell_type": "markdown",
      "source": [
        "9 .  What is type casting in Python ?\n"
      ],
      "metadata": {
        "id": "S3hTOqP5XLdG"
      }
    },
    {
      "cell_type": "markdown",
      "source": [
        "- Type casting, also referred to as type conversion, is the process of changing\n",
        "  one data type to another in Python.\n",
        "- Python provides built-in functions for type casting, such as int(), float(),\n",
        "  str(), list(), tuple(), dict(), etc.\n",
        "- Type casting is often necessary for performing arithmetic operations, data\n",
        "  manipulation, and input/output operations in Python programs.\n"
      ],
      "metadata": {
        "id": "TdkmYcENFfpg"
      }
    },
    {
      "cell_type": "markdown",
      "source": [
        "10 .  What is the difference between implicit and explicit type casting ?\n"
      ],
      "metadata": {
        "id": "IugUUouyFfZ9"
      }
    },
    {
      "cell_type": "markdown",
      "source": [
        "- Implicit Type Casting\n",
        "  - Python automatically converts one data type to another.\n",
        "  - Usually occurs when you perform operations involving different data types.\n",
        "    Python aims to prevent data loss during implicit conversion.\n",
        "  - You have no direct control over this process. Python decides how to convert\n",
        "    the data.\n",
        "      \n",
        "- Explicit Type Casting\n",
        "  - You, the programmer, explicitly convert a data type using built-in\n",
        "    functions.\n",
        "  - You use functions like int(), float(), str(), etc., to specify the desired\n",
        "    type.\n",
        "  - You have full control over the conversion process."
      ],
      "metadata": {
        "id": "mQSuDSAcFfKh"
      }
    },
    {
      "cell_type": "markdown",
      "source": [
        "11 .  What is the purpose of conditional statements in Python ?\n",
        "\n"
      ],
      "metadata": {
        "id": "yIFDS6MBFe6d"
      }
    },
    {
      "cell_type": "markdown",
      "source": [
        "- The purpose of conditional statements in Python (and in programming in\n",
        "  general) is to control the flow of execution of your code.  \n",
        "- They allow you to make decisions within your program, executing different\n",
        "  blocks of code based on whether certain conditions are true or false.\n",
        "\n",
        "   - Decision Making: Conditional statements enable your program to respond\n",
        "     differently to various inputs or situations.  \n",
        "        - They allow to create branches in your code's path.\n",
        "   - Dynamic Behavior: Without conditional statements, your code would always\n",
        "     execute in the same order of the data .  \n",
        "       - Conditionals make your programs dynamic and adaptable.\n",
        "       - They allow your program to make choices based on the current state of\n",
        "         the program or data.\n",
        "   - Implementing Logic:  Complex logic often requires evaluating multiple\n",
        "     conditions.\n",
        "      -  Conditional statements allow you to combine and nest these conditions\n",
        "         using logical operators (and, or, not) to create intricate decision-making processes.\n",
        "   - Error Handling:  You can use conditional statements to check for potential\n",
        "     errors before they occur.  \n",
        "        -  \"If a file exists, then open it; otherwise, display an error message.\"  This helps prevent your program from crashing.\n",
        "\n",
        "- conditional statements help organize your code into logical blocks.\n",
        "- This organization can make your code easier to understand, maintain, and\n",
        "  potentially reuse parts of it in other contexts."
      ],
      "metadata": {
        "id": "2iPwtMBKFc0z"
      }
    },
    {
      "cell_type": "markdown",
      "source": [
        "12 .  How does the elif statement work ?\n",
        "\n"
      ],
      "metadata": {
        "id": "HyCxGtoyHMrF"
      }
    },
    {
      "cell_type": "markdown",
      "source": [
        "- The elif statement in Python is short for \"else if.\"\n",
        "   - It's used in conjunction with if and else to create a chain of conditional\n",
        "     checks.  \n",
        "   - It allows you to test multiple conditions sequentially.  \n",
        "   -  If the initial if condition is false, the elif conditions are checked one\n",
        "     by one.\n",
        "   - The code block under the first true elif condition is executed. If none of the elif conditions are true, and an else block is present, the code within the else block is executed."
      ],
      "metadata": {
        "id": "NT6BiJxxHWRc"
      }
    },
    {
      "cell_type": "markdown",
      "source": [
        "13 .  What is the difference between for and while loops ?\n"
      ],
      "metadata": {
        "id": "kpi-bOtnHn9p"
      }
    },
    {
      "cell_type": "markdown",
      "source": [
        "- for loop:\n",
        "    - Purpose: Primarily used when you know in advance how many times you need\n",
        "      to iterate. It's designed for iterating over a sequence (like a list, tuple, string, or range) or any iterable object.\n",
        "    - Control: Iteration is controlled by the sequence or iterable. The loop\n",
        "      automatically iterates through each element of the sequence.\n",
        "      - Use a for loop when you have a specific collection of items to process\n",
        "        or when you know exactly how many times you need to repeat a block of code.\n",
        "\n",
        "- while loop:\n",
        "    - Purpose: Used when the number of iterations is not known in advance and\n",
        "      depends on a condition. The loop continues to execute as long as the condition remains true.\n",
        "    - Control: Iteration is controlled by a boolean condition. The loop\n",
        "      continues as long as the condition evaluates to True.\n",
        "       - Use a while loop when you need to repeat code until a certain condition is met, and you might not know how many iterations it will take. Be careful to ensure that the condition eventually becomes false to avoid infinite loops.\n"
      ],
      "metadata": {
        "id": "koDLUBtfHv8g"
      }
    },
    {
      "cell_type": "markdown",
      "source": [
        "14 . Describe a scenario where a while loop is more suitable than a for loop ?\n"
      ],
      "metadata": {
        "id": "gX2YywPzIARg"
      }
    },
    {
      "cell_type": "markdown",
      "source": [
        "- A scenario where a while loop is more suitable than a for loop is when you're\n",
        "  dealing with an indefinite number of iterations based on a dynamic condition that might change during the loop's execution.\n",
        "   - Imagine you have a large text file, and you want to read it line by line\n",
        "     until you find a line that contains the word \"STOP\". You don't know beforehand on which line \"STOP\" will appear, or if it will appear at all.\n",
        "     \n",
        "     -  A while loop is perfect for this situation.\n"
      ],
      "metadata": {
        "id": "qvTxLCxjIF2B"
      }
    }
  ]
}